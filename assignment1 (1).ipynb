{
  "nbformat": 4,
  "nbformat_minor": 0,
  "metadata": {
    "colab": {
      "provenance": []
    },
    "kernelspec": {
      "name": "python3",
      "display_name": "Python 3"
    },
    "language_info": {
      "name": "python"
    }
  },
  "cells": [
    {
      "cell_type": "markdown",
      "source": [],
      "metadata": {
        "id": "bx3BzjSHrWUI"
      }
    },
    {
      "cell_type": "markdown",
      "source": [
        "# assignment 1\n",
        " 1. what is python and why is it popular?\n",
        "   - pyhton is a programming language used widely and efficiently. its popular because its simple, has many library, its object oriented.\n",
        " 2. what is an interpreter in python?\n",
        "   - an interpreter is computer program that converts a programming language into a machine level code\n",
        " 3. What are pre-defined keywords in Python?\n",
        "   - pre-defined keywords are the keywordes that have special meaning in the programing language and cannot be used as identifiers. example-True,False,import etc\n",
        " 4. Can keywords be used as variable names?\n",
        "   - no, keywords are reserved words and cannot be used as variable names.\n",
        " 5. What is mutability in Python?\n",
        "   - mutability is the ability to change or alter the object without creating a new object.\n",
        " 6. Why are lists mutable, but tuples are immutable?\n",
        "   - because the contents of list can be changed and the contents of tuple cannot be changed thus list is mutable and tuple is immutable.\n",
        " 7. What is the difference between “==” and “is” operators in Python?\n",
        "   - The == operator checks for equality of values which means it evaluates whether the values of two objects are the same. On the other hand, is operator checks for identity, meaning it determines whether two variables point to the same object in memory.\n",
        "8. What are logical operators in Python?\n",
        "  - Logical operators in Python are used to combine conditional statements. The three main logical operators are:\n",
        "     and: Returns True if both statements are true.\n",
        "     or: Returns True if at least one of the statements is true.\n",
        "     not: Reverses the result, returns False if the result is true\n",
        "  9. What is type casting in Python?\n",
        "     - Type casting in Python, also known as type conversion, is the process of converting one data type to another.\n",
        "  10. What is the difference between implicit and explicit type casting?\n",
        "     - In implicit type casting, the programming language automatically converts data from one type to another if needed. For example, if you have an integer variable and you try to assign it to a float variable, the programming language will automatically convert the integer to a float without you having to do anything.\n",
        "     Explicit type casting, also known as type conversion or type coercion, occurs when the programmer explicitly converts a value from one data type to another. Unlike implicit type casting, explicit type casting requires the programmer to specify the desired data type conversion.\n",
        "  11. What is the purpose of conditional statements in Python?\n",
        "    - Conditional statements, also known as control flow statements, allow your program to make decisions based on certain conditions. These statements evaluate an expression for a Boolean value (True or False) and execute a block of code accordingly. The main types of conditional statements in Python are: if statements.\n",
        " 12. How does the elif statement work?\n",
        "    - An \"elif\" statement in Python stands for \"else if\" and is used to check for additional conditions sequentially after an initial \"if\" statement, meaning if the first condition is false, it moves on to evaluate the next \"elif\" condition until one is found to be true; essentially allowing you to check multiple conditions in a chain before potentially reaching an \"else\" statement if none of the previous conditions are met.\n",
        "  13. What is the difference between for and while loops?\n",
        "     - For loop\n",
        "        Used when you know the number of iterations in advance. A for loop is best for repeating a block of code for each item in a list or sequence. For example, you can use a for loop to print out all the elements of a vector.\n",
        "      While loop\n",
        "        Used when you don't know the number of iterations in advance. A while loop is best for repeating a block of code until a condition is met. For example, you can use a while loop to ask a user for a number between 1 and 10\n",
        "    14. Describe a scenario where a while loop is more suitable than a for loop?\n",
        "      - User Input Validation: If you're asking a user to input a number between 1 and 10, and you want to keep prompting them until they provide a valid input, a while loop is ideal. You would check if the input is within the desired range within the loop condition, and only exit the loop when the user provides valid input.\n",
        "      \n"
      ],
      "metadata": {
        "id": "GBQytk0CrdBu"
      }
    },
    {
      "cell_type": "code",
      "source": [
        "# 1 Write a Python program to print \"Hello, World!\"?\n",
        "\n",
        "'''\n",
        "print(\"Hello, World!\")\n",
        "\n",
        "'''\n",
        "\n",
        "\n"
      ],
      "metadata": {
        "colab": {
          "base_uri": "https://localhost:8080/",
          "height": 36
        },
        "id": "nXnXxFi2ZHZ_",
        "outputId": "943cf432-aa4d-44dc-f3dc-04e37a3f00fb"
      },
      "execution_count": 1,
      "outputs": [
        {
          "output_type": "execute_result",
          "data": {
            "text/plain": [
              "'\\nprint(\"Hello, World!\")\\n\\n'"
            ],
            "application/vnd.google.colaboratory.intrinsic+json": {
              "type": "string"
            }
          },
          "metadata": {},
          "execution_count": 1
        }
      ]
    },
    {
      "cell_type": "code",
      "execution_count": 3,
      "metadata": {
        "id": "J5jA8qjSpWer",
        "colab": {
          "base_uri": "https://localhost:8080/"
        },
        "outputId": "86af19ef-4aef-47ff-ddff-1a8cb3012405"
      },
      "outputs": [
        {
          "output_type": "stream",
          "name": "stdout",
          "text": [
            "Enter your name: nivedita\n",
            "Enter your age: 21\n",
            "Your name is: nivedita\n",
            "Your age is: 21\n"
          ]
        }
      ],
      "source": [
        "# 2  Write a Python program that displays your name and age?\n",
        "\n",
        "\n",
        "name = input(\"Enter your name: \")\n",
        "age = input(\"Enter your age: \")\n",
        "\n",
        "print(\"Your name is:\", name)\n",
        "print(\"Your age is:\", age)"
      ]
    },
    {
      "cell_type": "code",
      "source": [
        "# Write code to print all the pre-defined keywords in Python using the keyword library?\n",
        "\n",
        "\n",
        "help(\"keyword\")\n",
        "\n"
      ],
      "metadata": {
        "colab": {
          "base_uri": "https://localhost:8080/"
        },
        "id": "FM-wuJoDc0w5",
        "outputId": "3c36c981-19cf-4b1f-f22b-38e8844cab50"
      },
      "execution_count": 6,
      "outputs": [
        {
          "output_type": "stream",
          "name": "stdout",
          "text": [
            "Help on module keyword:\n",
            "\n",
            "NAME\n",
            "    keyword - Keywords (from \"Grammar/python.gram\")\n",
            "\n",
            "MODULE REFERENCE\n",
            "    https://docs.python.org/3.10/library/keyword.html\n",
            "    \n",
            "    The following documentation is automatically generated from the Python\n",
            "    source files.  It may be incomplete, incorrect or include features that\n",
            "    are considered implementation detail and may vary between Python\n",
            "    implementations.  When in doubt, consult the module reference at the\n",
            "    location listed above.\n",
            "\n",
            "DESCRIPTION\n",
            "    This file is automatically generated; please don't muck it up!\n",
            "    \n",
            "    To update the symbols in this file, 'cd' to the top directory of\n",
            "    the python source tree and run:\n",
            "    \n",
            "        PYTHONPATH=Tools/peg_generator python3 -m pegen.keywordgen         Grammar/python.gram         Grammar/Tokens         Lib/keyword.py\n",
            "    \n",
            "    Alternatively, you can run 'make regen-keyword'.\n",
            "\n",
            "FUNCTIONS\n",
            "    iskeyword = __contains__(...) method of builtins.frozenset instance\n",
            "        x.__contains__(y) <==> y in x.\n",
            "    \n",
            "    issoftkeyword = __contains__(...) method of builtins.frozenset instance\n",
            "        x.__contains__(y) <==> y in x.\n",
            "\n",
            "DATA\n",
            "    __all__ = ['iskeyword', 'issoftkeyword', 'kwlist', 'softkwlist']\n",
            "    kwlist = ['False', 'None', 'True', 'and', 'as', 'assert', 'async', 'aw...\n",
            "    softkwlist = ['_', 'case', 'match']\n",
            "\n",
            "FILE\n",
            "    /usr/lib/python3.10/keyword.py\n",
            "\n",
            "\n"
          ]
        }
      ]
    },
    {
      "cell_type": "code",
      "source": [
        "#Write a program that checks if a given word is a Python keyword?\n",
        "\n",
        "\n",
        "import keyword\n",
        "\n",
        "def is_keyword(word):\n",
        "  return keyword.iskeyword(word)\n",
        "\n",
        "word = input(\"Enter a word: \")\n",
        "if is_keyword(word):\n",
        "  print(f\"{word} is a Python keyword.\")\n",
        "else:\n",
        "  print(f\"{word} is not a Python keyword.\")\n",
        "\n"
      ],
      "metadata": {
        "colab": {
          "base_uri": "https://localhost:8080/"
        },
        "id": "pgl5-4w_dxyM",
        "outputId": "cbf3ce90-de7c-4338-bfeb-d0b6f6326c8a"
      },
      "execution_count": 7,
      "outputs": [
        {
          "output_type": "stream",
          "name": "stdout",
          "text": [
            "Enter a word: import\n",
            "import is a Python keyword.\n"
          ]
        }
      ]
    },
    {
      "cell_type": "code",
      "source": [
        "#Create a list and tuple in Python, and demonstrate how attempting to change an element works differently for each?\n",
        "\n",
        "\n",
        "\n",
        "my_list = [\"x\", \"y\", \"z\"]\n",
        "my_tuple = (\"m\", \"g\", \"k\")\n",
        "print(\"Original list:\", my_list)\n",
        "my_list[1] = \"p\"\n",
        "print(\"Updated list:\", my_list)\n",
        "\n",
        "print(\"Original tuple:\", my_tuple)\n",
        "try:\n",
        "    my_tuple[1] = \"t\"\n",
        "except TypeError as e:\n",
        "    print(\"Error:\", e)\n",
        ""
      ],
      "metadata": {
        "colab": {
          "base_uri": "https://localhost:8080/"
        },
        "id": "ThwnRbwQeyK3",
        "outputId": "e0aae765-2e2e-49c5-9fac-56bbaa2969d5"
      },
      "execution_count": 9,
      "outputs": [
        {
          "output_type": "stream",
          "name": "stdout",
          "text": [
            "Original list: ['x', 'y', 'z']\n",
            "Updated list: ['x', 'p', 'z']\n",
            "Original tuple: ('m', 'g', 'k')\n",
            "Error: 'tuple' object does not support item assignment\n"
          ]
        }
      ]
    },
    {
      "cell_type": "code",
      "source": [
        "#Write a function to demonstrate the behavior of mutable and immutable arguments?\n",
        "\n",
        "def modify_arguments(mutable_arg, immutable_arg):\n",
        "    mutable_arg.append(4)\n",
        "    immutable_arg += 1\n",
        "\n",
        "    print(\"Inside function:\")\n",
        "    print(\"Mutable:\", mutable_arg)\n",
        "    print(\"Immutable:\", immutable_arg)\n",
        "\n",
        "my_list = [1, 2, 3]\n",
        "my_int = 5\n",
        "\n",
        "print(\"Before function call:\")\n",
        "print(\"Mutable:\", my_list)\n",
        "print(\"Immutable:\", my_int)\n",
        "\n",
        "modify_arguments(my_list, my_int)\n",
        "\n",
        "print(\"After function call:\")\n",
        "print(\"Mutable:\", my_list)\n",
        "print(\"Immutable:\", my_int)\n"
      ],
      "metadata": {
        "colab": {
          "base_uri": "https://localhost:8080/"
        },
        "id": "tJ0-pOdJgYjD",
        "outputId": "1ba00bd5-9ab5-4057-a4e8-174ddfd4a79a"
      },
      "execution_count": 10,
      "outputs": [
        {
          "output_type": "stream",
          "name": "stdout",
          "text": [
            "Before function call:\n",
            "Mutable: [1, 2, 3]\n",
            "Immutable: 5\n",
            "Inside function:\n",
            "Mutable: [1, 2, 3, 4]\n",
            "Immutable: 6\n",
            "After function call:\n",
            "Mutable: [1, 2, 3, 4]\n",
            "Immutable: 5\n"
          ]
        }
      ]
    },
    {
      "cell_type": "code",
      "source": [
        "#Write a program to demonstrate the use of logical operators?\n",
        "def check_conditions(a, b, c):\n",
        "    # Using logical AND\n",
        "    if a > 0 and b > 0:\n",
        "        print(\"Both a and b are positive.\")\n",
        "    else:\n",
        "        print(\"At least one of a or b is non-positive.\")\n",
        "\n",
        "    # Using logical OR\n",
        "    if a > 0 or c > 0:\n",
        "        print(\"At least one of a or c is positive.\")\n",
        "    else:\n",
        "        print(\"Neither a nor c is positive.\")\n",
        "\n",
        "    # Using logical NOT\n",
        "    if not (a == b):\n",
        "        print(\"a is not equal to b.\")\n",
        "    else:\n",
        "        print(\"a is equal to b.\")\n",
        "\n",
        "# Example usage:\n",
        "a = 5\n",
        "b = -3\n",
        "c = 7\n",
        "\n",
        "check_conditions(a, b, c)\n"
      ],
      "metadata": {
        "colab": {
          "base_uri": "https://localhost:8080/"
        },
        "id": "T6iu1uyXJ8QL",
        "outputId": "9f764f00-264c-4cc9-f4cb-1406d62514cd"
      },
      "execution_count": 11,
      "outputs": [
        {
          "output_type": "stream",
          "name": "stdout",
          "text": [
            "At least one of a or b is non-positive.\n",
            "At least one of a or c is positive.\n",
            "a is not equal to b.\n"
          ]
        }
      ]
    },
    {
      "cell_type": "code",
      "source": [
        "#Write a Python program to convert user input from string to integer, float, and boolean types0\n",
        "def convert_input():\n",
        "    # Taking user input as a string\n",
        "    user_input = input(\"Enter a value: \")\n",
        "\n",
        "    # Converting the input to an integer\n",
        "    try:\n",
        "        int_value = int(user_input)\n",
        "        print(f\"Converted to Integer: {int_value}\")\n",
        "    except ValueError:\n",
        "        print(\"Cannot convert to Integer\")\n",
        "\n",
        "    # Converting the input to a float\n",
        "    try:\n",
        "        float_value = float(user_input)\n",
        "        print(f\"Converted to Float: {float_value}\")\n",
        "    except ValueError:\n",
        "        print(\"Cannot convert to Float\")\n",
        "\n",
        "    # Converting the input to a boolean\n",
        "    # Empty string, '0', or 'False' (case insensitive) are considered False\n",
        "    bool_value = bool(user_input.strip())  # strip() removes leading/trailing spaces\n",
        "    print(f\"Converted to Boolean: {bool_value}\")\n",
        "\n",
        "# Run the function to demonstrate conversion\n",
        "convert_input()\n"
      ],
      "metadata": {
        "colab": {
          "base_uri": "https://localhost:8080/"
        },
        "id": "UDocFGPSgvgr",
        "outputId": "777f7299-c759-44d4-e4c4-cff3fad3b080"
      },
      "execution_count": 12,
      "outputs": [
        {
          "output_type": "stream",
          "name": "stdout",
          "text": [
            "Enter a value: 6\n",
            "Converted to Integer: 6\n",
            "Converted to Float: 6.0\n",
            "Converted to Boolean: True\n"
          ]
        }
      ]
    },
    {
      "cell_type": "code",
      "source": [
        "#Write code to demonstrate type casting with list elements\n",
        "def type_casting_with_list():\n",
        "    # Sample list of mixed types (string, float, and boolean)\n",
        "    mixed_list = [\"10\", \"20.5\", \"True\", \"5\", \"False\", \"3.14\"]\n",
        "\n",
        "    # Convert all string elements to integer (if possible)\n",
        "    int_list = []\n",
        "    for item in mixed_list:\n",
        "        try:\n",
        "            int_list.append(int(float(item)))  # First convert to float if necessary\n",
        "        except ValueError:\n",
        "            int_list.append(None)  # If conversion fails, append None\n",
        "\n",
        "    # Convert all string elements to float (if possible)\n",
        "    float_list = []\n",
        "    for item in mixed_list:\n",
        "        try:\n",
        "            float_list.append(float(item))  # Convert directly to float\n",
        "        except ValueError:\n",
        "            float_list.append(None)  # If conversion fails, append None\n",
        "\n",
        "    # Convert all string elements to boolean\n",
        "    bool_list = [bool(item.strip()) for item in mixed_list]  # strip() removes leading/trailing spaces\n",
        "\n",
        "    # Display the original and converted lists\n",
        "    print(\"Original List:\", mixed_list)\n",
        "    print(\"Converted to Integer List:\", int_list)\n",
        "    print(\"Converted to Float List:\", float_list)\n",
        "    print(\"Converted to Boolean List:\", bool_list)\n",
        "\n",
        "# Run the function to demonstrate type casting\n",
        "type_casting_with_list()\n"
      ],
      "metadata": {
        "id": "8JxvwYZ0Lv9N"
      },
      "execution_count": null,
      "outputs": []
    },
    {
      "cell_type": "code",
      "source": [
        "#Write a program that checks if a number is positive, negative, or zero\n",
        "def check_number():\n",
        "    # Take input from the user\n",
        "    num = float(input(\"Enter a number: \"))\n",
        "\n",
        "    # Check if the number is positive, negative, or zero\n",
        "    if num > 0:\n",
        "        print(\"The number is positive.\")\n",
        "    elif num < 0:\n",
        "        print(\"The number is negative.\")\n",
        "    else:\n",
        "        print(\"The number is zero.\")\n",
        "\n",
        "# Call the function to check the number\n",
        "check_number()\n"
      ],
      "metadata": {
        "id": "g1OLHWWML54s"
      },
      "execution_count": null,
      "outputs": []
    },
    {
      "cell_type": "code",
      "source": [
        "# Write a for loop to print numbers from 1 to 10\n",
        "for i in range(1, 11):\n",
        "    print(i)\n"
      ],
      "metadata": {
        "colab": {
          "base_uri": "https://localhost:8080/"
        },
        "id": "CdZW5BhQMIi7",
        "outputId": "8ffaa023-1651-43c1-8b60-a70150bd8c1c"
      },
      "execution_count": 13,
      "outputs": [
        {
          "output_type": "stream",
          "name": "stdout",
          "text": [
            "1\n",
            "2\n",
            "3\n",
            "4\n",
            "5\n",
            "6\n",
            "7\n",
            "8\n",
            "9\n",
            "10\n"
          ]
        }
      ]
    },
    {
      "cell_type": "code",
      "source": [
        "#Write a Python program to find the sum of all even numbers between 1 and 500\n",
        "# Initialize the sum variable\n",
        "sum_even_numbers = 0\n",
        "\n",
        "# Loop through numbers from 1 to 500\n",
        "for num in range(2, 501, 2):  # Start at 2, go up to 500, with a step of 2 (even numbers)\n",
        "    sum_even_numbers += num  # Add the even number to the sum\n",
        "\n",
        "# Output the result\n",
        "print(\"The sum of all even numbers between 1 and 500 is:\", sum_even_numbers)\n"
      ],
      "metadata": {
        "colab": {
          "base_uri": "https://localhost:8080/"
        },
        "id": "rizTRm8NMXgr",
        "outputId": "913704d6-710a-4c98-aef4-8de5b8243941"
      },
      "execution_count": 14,
      "outputs": [
        {
          "output_type": "stream",
          "name": "stdout",
          "text": [
            "The sum of all even numbers between 1 and 500 is: 62750\n"
          ]
        }
      ]
    },
    {
      "cell_type": "code",
      "source": [
        "#Write a program to reverse a string using a while loop\n",
        "def reverse_string(input_string):\n",
        "    # Initialize an empty string to store the reversed string\n",
        "    reversed_string = \"\"\n",
        "\n",
        "    # Set a variable to track the index of the last character in the string\n",
        "    index = len(input_string) - 1\n",
        "\n",
        "    # Use a while loop to iterate through the string backwards\n",
        "    while index >= 0:\n",
        "        reversed_string += input_string[index]  # Append the character to the reversed string\n",
        "        index -= 1  # Move to the previous character\n",
        "\n",
        "    return reversed_string\n",
        "\n",
        "# Example usage\n",
        "input_string = input(\"Enter a string to reverse: \")\n",
        "print(\"Reversed string:\", reverse_string(input_string))\n"
      ],
      "metadata": {
        "colab": {
          "base_uri": "https://localhost:8080/"
        },
        "id": "Ci5UhCZlMqT8",
        "outputId": "b6aa5862-3994-4080-fb70-c73e1e3cda5a"
      },
      "execution_count": 15,
      "outputs": [
        {
          "output_type": "stream",
          "name": "stdout",
          "text": [
            "Enter a string to reverse: tiku\n",
            "Reversed string: ukit\n"
          ]
        }
      ]
    },
    {
      "cell_type": "code",
      "source": [
        "#Write a Python program to calculate the factorial of a number provided by the user using a while loop.\n",
        "def factorial():\n",
        "    # Take user input\n",
        "    number = int(input(\"Enter a number to calculate its factorial: \"))\n",
        "\n",
        "    # Check if the input is negative\n",
        "    if number < 0:\n",
        "        print(\"Factorial is not defined for negative numbers.\")\n",
        "        return\n",
        "\n",
        "    # Initialize factorial to 1 (since factorial of 0 is 1)\n",
        "    result = 1\n",
        "\n",
        "    # Use a while loop to calculate factorial\n",
        "    while number > 0:\n",
        "        result *= number  # Multiply result by the current number\n",
        "        number -= 1  # Decrease the number by 1\n",
        "\n",
        "    # Print the calculated factorial\n",
        "    print(f\"The factorial is: {result}\")\n",
        "\n",
        "# Call the factorial function\n",
        "factorial()\n"
      ],
      "metadata": {
        "colab": {
          "base_uri": "https://localhost:8080/"
        },
        "id": "c_erBJ77M87M",
        "outputId": "4d9eca2f-360e-4ff1-c0c1-cb4459154118"
      },
      "execution_count": 17,
      "outputs": [
        {
          "output_type": "stream",
          "name": "stdout",
          "text": [
            "Enter a number to calculate its factorial: 3\n",
            "The factorial is: 6\n"
          ]
        }
      ]
    }
  ]
}